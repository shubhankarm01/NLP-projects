{
 "cells": [
  {
   "cell_type": "code",
   "execution_count": 1,
   "id": "91104b70-0675-45d4-8d48-3aba65072fa9",
   "metadata": {
    "tags": []
   },
   "outputs": [],
   "source": [
    "import pickle\n",
    "import gensim\n",
    "from sklearn.feature_extraction.text import CountVectorizer"
   ]
  },
  {
   "cell_type": "code",
   "execution_count": 2,
   "id": "9622db0e-267b-40cb-8e49-37405321c4aa",
   "metadata": {
    "tags": []
   },
   "outputs": [],
   "source": [
    "# Load the list of documents\n",
    "\n",
    "with open('newsgroups', 'rb') as f:\n",
    "    newsgroup_data = pickle.load(f)"
   ]
  },
  {
   "cell_type": "code",
   "execution_count": 3,
   "id": "bc8d8ffc-505f-46dd-8808-6514707e084a",
   "metadata": {
    "tags": []
   },
   "outputs": [],
   "source": [
    "# Use CountVectorizor to find three letter tokens, remove stop_words, \n",
    "# remove tokens that don't appear in at least 20 documents,\n",
    "# remove tokens that appear in more than 20% of the documents\n",
    "\n",
    "vect = CountVectorizer(min_df=20, max_df=0.2, \n",
    "                       stop_words='english', \n",
    "                       token_pattern='(?u)\\\\b\\\\w\\\\w\\\\w+\\\\b')\n",
    "\n",
    "X = vect.fit_transform(newsgroup_data)"
   ]
  },
  {
   "cell_type": "code",
   "execution_count": 4,
   "id": "671299cf-c90c-4970-8bc8-f9afae45a6b5",
   "metadata": {
    "tags": []
   },
   "outputs": [],
   "source": [
    "# Convert sparse matrix to gensim corpus\n",
    "\n",
    "corpus = gensim.matutils.Sparse2Corpus(X, documents_columns=False)"
   ]
  },
  {
   "cell_type": "code",
   "execution_count": 5,
   "id": "e546b3a9-d6aa-4172-a838-5b644d6582b5",
   "metadata": {
    "tags": []
   },
   "outputs": [],
   "source": [
    "# Mapping from word IDs to words (To be used in LdaModel's id2word parameter)\n",
    "\n",
    "id_map = dict((v, k) for k, v in vect.vocabulary_.items())"
   ]
  },
  {
   "cell_type": "code",
   "execution_count": 6,
   "id": "a43161ab-9d8f-4a96-9869-9012e0500648",
   "metadata": {
    "tags": []
   },
   "outputs": [],
   "source": [
    "# gensim.models.ldamodel.LdaModel constructor to estimate LDA model parameters\n",
    "\n",
    "ldamodel = gensim.models.ldamodel.LdaModel(corpus, num_topics = 10, id2word = id_map, passes = 25, random_state = 34)"
   ]
  },
  {
   "cell_type": "code",
   "execution_count": 7,
   "id": "7730b20e-73fd-415d-a39f-fca6d6540287",
   "metadata": {},
   "outputs": [
    {
     "data": {
      "text/plain": [
       "[(0,\n",
       "  '0.056*\"edu\" + 0.043*\"com\" + 0.033*\"thanks\" + 0.022*\"mail\" + 0.021*\"know\" + 0.020*\"does\" + 0.014*\"info\" + 0.012*\"monitor\" + 0.010*\"looking\" + 0.010*\"don\"'),\n",
       " (1,\n",
       "  '0.024*\"ground\" + 0.018*\"current\" + 0.018*\"just\" + 0.013*\"want\" + 0.013*\"use\" + 0.011*\"using\" + 0.011*\"used\" + 0.010*\"power\" + 0.010*\"speed\" + 0.010*\"output\"'),\n",
       " (2,\n",
       "  '0.061*\"drive\" + 0.042*\"disk\" + 0.033*\"scsi\" + 0.030*\"drives\" + 0.028*\"hard\" + 0.028*\"controller\" + 0.027*\"card\" + 0.020*\"rom\" + 0.018*\"floppy\" + 0.017*\"bus\"'),\n",
       " (3,\n",
       "  '0.023*\"time\" + 0.015*\"atheism\" + 0.014*\"list\" + 0.013*\"left\" + 0.012*\"alt\" + 0.012*\"faq\" + 0.012*\"probably\" + 0.011*\"know\" + 0.011*\"send\" + 0.010*\"months\"'),\n",
       " (4,\n",
       "  '0.025*\"car\" + 0.016*\"just\" + 0.014*\"don\" + 0.014*\"bike\" + 0.012*\"good\" + 0.011*\"new\" + 0.011*\"think\" + 0.010*\"year\" + 0.010*\"cars\" + 0.010*\"time\"'),\n",
       " (5,\n",
       "  '0.030*\"game\" + 0.027*\"team\" + 0.023*\"year\" + 0.017*\"games\" + 0.016*\"play\" + 0.012*\"season\" + 0.012*\"players\" + 0.012*\"win\" + 0.011*\"hockey\" + 0.011*\"good\"'),\n",
       " (6,\n",
       "  '0.017*\"information\" + 0.014*\"help\" + 0.014*\"medical\" + 0.012*\"new\" + 0.012*\"use\" + 0.012*\"000\" + 0.012*\"research\" + 0.011*\"university\" + 0.010*\"number\" + 0.010*\"program\"'),\n",
       " (7,\n",
       "  '0.022*\"don\" + 0.021*\"people\" + 0.018*\"think\" + 0.017*\"just\" + 0.012*\"say\" + 0.011*\"know\" + 0.011*\"does\" + 0.011*\"good\" + 0.010*\"god\" + 0.009*\"way\"'),\n",
       " (8,\n",
       "  '0.034*\"use\" + 0.023*\"apple\" + 0.020*\"power\" + 0.016*\"time\" + 0.015*\"data\" + 0.015*\"software\" + 0.012*\"pin\" + 0.012*\"memory\" + 0.012*\"simms\" + 0.011*\"port\"'),\n",
       " (9,\n",
       "  '0.068*\"space\" + 0.036*\"nasa\" + 0.021*\"science\" + 0.020*\"edu\" + 0.019*\"data\" + 0.017*\"shuttle\" + 0.015*\"launch\" + 0.015*\"available\" + 0.014*\"center\" + 0.014*\"sci\"')]"
      ]
     },
     "execution_count": 7,
     "metadata": {},
     "output_type": "execute_result"
    }
   ],
   "source": [
    "ldamodel.print_topics(10)"
   ]
  },
  {
   "cell_type": "markdown",
   "id": "e8777b00-e4de-483b-a41b-71d353954383",
   "metadata": {},
   "source": [
    "# Using the model on new document"
   ]
  },
  {
   "cell_type": "code",
   "execution_count": 8,
   "id": "1130abbd-20a1-47d0-8168-b5d09ef24b4a",
   "metadata": {
    "tags": []
   },
   "outputs": [],
   "source": [
    "new_doc = [\"\\n\\nIt's my understanding that the freezing will start to occur because \\\n",
    "            of the\\ngrowing distance of Pluto and Charon from the Sun, due to it's\\nelliptical orbit. \\\n",
    "            It is not due to shadowing effects. \\n\\n\\nPluto can shadow Charon, and vice-versa.\\n\\nGeorge \\\n",
    "            Krumins\\n-- \"]"
   ]
  },
  {
   "cell_type": "code",
   "execution_count": 9,
   "id": "e05f890c-bfa5-4cf4-838c-df899641ea6d",
   "metadata": {},
   "outputs": [
    {
     "data": {
      "text/plain": [
       "[(0, 0.020003108),\n",
       " (1, 0.020003324),\n",
       " (2, 0.020001281),\n",
       " (3, 0.49674895),\n",
       " (4, 0.020004038),\n",
       " (5, 0.020004129),\n",
       " (6, 0.020002972),\n",
       " (7, 0.020002645),\n",
       " (8, 0.020003129),\n",
       " (9, 0.34322643)]"
      ]
     },
     "execution_count": 9,
     "metadata": {},
     "output_type": "execute_result"
    }
   ],
   "source": [
    "def topic_distribution():\n",
    "    \n",
    "    y = vect.transform(new_doc)\n",
    "    \n",
    "    corpus2 = gensim.matutils.Sparse2Corpus(y, documents_columns = False)    \n",
    "    \n",
    "    return list(ldamodel[corpus2])[0]\n",
    "\n",
    "topic_distribution()"
   ]
  },
  {
   "cell_type": "code",
   "execution_count": null,
   "id": "de449b6c-3752-4c0c-a15c-e6434555f144",
   "metadata": {},
   "outputs": [],
   "source": []
  }
 ],
 "metadata": {
  "kernelspec": {
   "display_name": "Python 3 (ipykernel)",
   "language": "python",
   "name": "python3"
  },
  "language_info": {
   "codemirror_mode": {
    "name": "ipython",
    "version": 3
   },
   "file_extension": ".py",
   "mimetype": "text/x-python",
   "name": "python",
   "nbconvert_exporter": "python",
   "pygments_lexer": "ipython3",
   "version": "3.7.13"
  }
 },
 "nbformat": 4,
 "nbformat_minor": 5
}
