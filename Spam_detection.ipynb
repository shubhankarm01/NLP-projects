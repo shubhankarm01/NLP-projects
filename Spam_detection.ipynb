{
 "cells": [
  {
   "cell_type": "markdown",
   "metadata": {},
   "source": [
    "# Importing data"
   ]
  },
  {
   "cell_type": "code",
   "execution_count": 1,
   "metadata": {},
   "outputs": [
    {
     "data": {
      "text/html": [
       "<div>\n",
       "<style scoped>\n",
       "    .dataframe tbody tr th:only-of-type {\n",
       "        vertical-align: middle;\n",
       "    }\n",
       "\n",
       "    .dataframe tbody tr th {\n",
       "        vertical-align: top;\n",
       "    }\n",
       "\n",
       "    .dataframe thead th {\n",
       "        text-align: right;\n",
       "    }\n",
       "</style>\n",
       "<table border=\"1\" class=\"dataframe\">\n",
       "  <thead>\n",
       "    <tr style=\"text-align: right;\">\n",
       "      <th></th>\n",
       "      <th>text</th>\n",
       "      <th>target</th>\n",
       "    </tr>\n",
       "  </thead>\n",
       "  <tbody>\n",
       "    <tr>\n",
       "      <th>0</th>\n",
       "      <td>Go until jurong point, crazy.. Available only ...</td>\n",
       "      <td>0</td>\n",
       "    </tr>\n",
       "    <tr>\n",
       "      <th>1</th>\n",
       "      <td>Ok lar... Joking wif u oni...</td>\n",
       "      <td>0</td>\n",
       "    </tr>\n",
       "    <tr>\n",
       "      <th>2</th>\n",
       "      <td>Free entry in 2 a wkly comp to win FA Cup fina...</td>\n",
       "      <td>1</td>\n",
       "    </tr>\n",
       "    <tr>\n",
       "      <th>3</th>\n",
       "      <td>U dun say so early hor... U c already then say...</td>\n",
       "      <td>0</td>\n",
       "    </tr>\n",
       "    <tr>\n",
       "      <th>4</th>\n",
       "      <td>Nah I don't think he goes to usf, he lives aro...</td>\n",
       "      <td>0</td>\n",
       "    </tr>\n",
       "    <tr>\n",
       "      <th>5</th>\n",
       "      <td>FreeMsg Hey there darling it's been 3 week's n...</td>\n",
       "      <td>1</td>\n",
       "    </tr>\n",
       "    <tr>\n",
       "      <th>6</th>\n",
       "      <td>Even my brother is not like to speak with me. ...</td>\n",
       "      <td>0</td>\n",
       "    </tr>\n",
       "    <tr>\n",
       "      <th>7</th>\n",
       "      <td>As per your request 'Melle Melle (Oru Minnamin...</td>\n",
       "      <td>0</td>\n",
       "    </tr>\n",
       "    <tr>\n",
       "      <th>8</th>\n",
       "      <td>WINNER!! As a valued network customer you have...</td>\n",
       "      <td>1</td>\n",
       "    </tr>\n",
       "    <tr>\n",
       "      <th>9</th>\n",
       "      <td>Had your mobile 11 months or more? U R entitle...</td>\n",
       "      <td>1</td>\n",
       "    </tr>\n",
       "  </tbody>\n",
       "</table>\n",
       "</div>"
      ],
      "text/plain": [
       "                                                text  target\n",
       "0  Go until jurong point, crazy.. Available only ...       0\n",
       "1                      Ok lar... Joking wif u oni...       0\n",
       "2  Free entry in 2 a wkly comp to win FA Cup fina...       1\n",
       "3  U dun say so early hor... U c already then say...       0\n",
       "4  Nah I don't think he goes to usf, he lives aro...       0\n",
       "5  FreeMsg Hey there darling it's been 3 week's n...       1\n",
       "6  Even my brother is not like to speak with me. ...       0\n",
       "7  As per your request 'Melle Melle (Oru Minnamin...       0\n",
       "8  WINNER!! As a valued network customer you have...       1\n",
       "9  Had your mobile 11 months or more? U R entitle...       1"
      ]
     },
     "execution_count": 1,
     "metadata": {},
     "output_type": "execute_result"
    }
   ],
   "source": [
    "import pandas as pd\n",
    "import numpy as np\n",
    "\n",
    "spam_data = pd.read_csv('spam.csv')\n",
    "\n",
    "spam_data['target'] = np.where(spam_data['target']=='spam',1,0)\n",
    "spam_data.head(10)"
   ]
  },
  {
   "cell_type": "code",
   "execution_count": 2,
   "metadata": {},
   "outputs": [],
   "source": [
    "from sklearn.model_selection import train_test_split\n",
    "\n",
    "X_train, X_test, y_train, y_test = train_test_split(spam_data['text'], \n",
    "                                                    spam_data['target'], \n",
    "                                                    random_state=0)"
   ]
  },
  {
   "cell_type": "code",
   "execution_count": 3,
   "metadata": {},
   "outputs": [
    {
     "data": {
      "text/plain": [
       "13.406317300789663"
      ]
     },
     "execution_count": 3,
     "metadata": {},
     "output_type": "execute_result"
    }
   ],
   "source": [
    "# Percentage of spam data\n",
    "\n",
    "def spam_percent():\n",
    "    import numpy as np\n",
    "    \n",
    "    i = np.bincount(spam_data['target'])\n",
    "    \n",
    "    return i[1]*100/(i[0]+i[1])\n",
    "\n",
    "spam_percent()"
   ]
  },
  {
   "cell_type": "code",
   "execution_count": 4,
   "metadata": {},
   "outputs": [
    {
     "data": {
      "text/plain": [
       "'com1win150ppmx3age16subscription'"
      ]
     },
     "execution_count": 4,
     "metadata": {},
     "output_type": "execute_result"
    }
   ],
   "source": [
    "from sklearn.feature_extraction.text import CountVectorizer\n",
    "\n",
    "def longest_token():\n",
    "    \n",
    "    vect = CountVectorizer().fit(X_train)\n",
    "    \n",
    "    return sorted(vect.get_feature_names_out(), key = len, reverse = True)[0]\n",
    "\n",
    "longest_token()"
   ]
  },
  {
   "cell_type": "markdown",
   "metadata": {
    "tags": []
   },
   "source": [
    "# First model\n",
    "\n",
    "> Fitting and transforming the training data `X_train` using a Count Vectorizer with default parameters.\n",
    "\n",
    "> Fitting a multinomial Naive Bayes classifier model with smoothing `alpha=0.1`\n",
    "\n",
    "> Area under the curve (AUC) score using the transformed test data"
   ]
  },
  {
   "cell_type": "code",
   "execution_count": 5,
   "metadata": {},
   "outputs": [
    {
     "data": {
      "text/plain": [
       "0.9720812182741116"
      ]
     },
     "execution_count": 5,
     "metadata": {},
     "output_type": "execute_result"
    }
   ],
   "source": [
    "from sklearn.naive_bayes import MultinomialNB\n",
    "from sklearn.metrics import roc_auc_score\n",
    "\n",
    "def mul_NB():\n",
    "    \n",
    "    vect = CountVectorizer().fit(X_train)\n",
    "    X_train_vectorized = vect.transform(X_train)\n",
    "    \n",
    "    model = MultinomialNB(alpha = 0.1)\n",
    "    model.fit(X_train_vectorized, y_train)\n",
    "    \n",
    "    predictions = model.predict(vect.transform(X_test))\n",
    "    \n",
    "    auc_score = roc_auc_score(y_test, predictions) \n",
    "    \n",
    "    return auc_score\n",
    "\n",
    "mul_NB()"
   ]
  },
  {
   "cell_type": "markdown",
   "metadata": {},
   "source": [
    "# TF-IDF\n",
    "\n",
    "> Fitting and transforming the training data `X_train` using a Tfidf Vectorizer with default parameters.\n",
    "\n",
    "> 20 features have the smallest tf-idf and what 20 have the largest tf-idf"
   ]
  },
  {
   "cell_type": "code",
   "execution_count": 6,
   "metadata": {},
   "outputs": [
    {
     "name": "stderr",
     "output_type": "stream",
     "text": [
      "F:\\Anaconda\\lib\\site-packages\\sklearn\\utils\\deprecation.py:87: FutureWarning: Function get_feature_names is deprecated; get_feature_names is deprecated in 1.0 and will be removed in 1.2. Please use get_feature_names_out instead.\n",
      "  warnings.warn(msg, category=FutureWarning)\n"
     ]
    },
    {
     "data": {
      "text/plain": [
       "(sympathetic     0.074475\n",
       " healer          0.074475\n",
       " aaniye          0.074475\n",
       " dependable      0.074475\n",
       " companion       0.074475\n",
       " listener        0.074475\n",
       " athletic        0.074475\n",
       " exterminator    0.074475\n",
       " psychiatrist    0.074475\n",
       " pest            0.074475\n",
       " determined      0.074475\n",
       " chef            0.074475\n",
       " courageous      0.074475\n",
       " stylist         0.074475\n",
       " psychologist    0.074475\n",
       " organizer       0.074475\n",
       " pudunga         0.074475\n",
       " venaam          0.074475\n",
       " diwali          0.091250\n",
       " mornings        0.091250\n",
       " dtype: float64,\n",
       " 146tf150p    1.000000\n",
       " havent       1.000000\n",
       " home         1.000000\n",
       " okie         1.000000\n",
       " thanx        1.000000\n",
       " er           1.000000\n",
       " anything     1.000000\n",
       " lei          1.000000\n",
       " nite         1.000000\n",
       " yup          1.000000\n",
       " thank        1.000000\n",
       " ok           1.000000\n",
       " where        1.000000\n",
       " beerage      1.000000\n",
       " anytime      1.000000\n",
       " too          1.000000\n",
       " done         1.000000\n",
       " 645          1.000000\n",
       " tick         0.980166\n",
       " blank        0.932702\n",
       " dtype: float64)"
      ]
     },
     "execution_count": 6,
     "metadata": {},
     "output_type": "execute_result"
    }
   ],
   "source": [
    "from sklearn.feature_extraction.text import TfidfVectorizer\n",
    "\n",
    "def tf_idf():\n",
    "    \n",
    "    vect = TfidfVectorizer().fit(X_train)\n",
    "    X_train_vectorized = vect.transform(X_train)\n",
    "    \n",
    "    tfidf = X_train_vectorized.max(0).toarray()[0]\n",
    "    index = tfidf.argsort()\n",
    "    \n",
    "    small_tfidf = np.array(vect.get_feature_names())[index[:20]]\n",
    "    large_tfidf = np.array(vect.get_feature_names())[index[:-21:-1]]\n",
    "    \n",
    "    small_tfidf_series = pd.Series(sorted(tfidf)[:20], index = small_tfidf)\n",
    "    large_tfidf_series = pd.Series(sorted(tfidf)[:-21:-1], index = large_tfidf)\n",
    "    \n",
    "    \n",
    "    return (small_tfidf_series, large_tfidf_series)\n",
    "\n",
    "tf_idf()"
   ]
  },
  {
   "cell_type": "markdown",
   "metadata": {},
   "source": [
    "# Second model\n",
    "\n",
    "> Fitting and transforming the training data `X_train` using a Tfidf Vectorizer ignoring terms that have document frequency lower than **3**.\n",
    "\n",
    "> Fitting a multinomial Naive Bayes classifier model with smoothing `alpha=0.1`\n",
    "\n",
    "> Area under the curve (AUC) score using the transformed test data"
   ]
  },
  {
   "cell_type": "code",
   "execution_count": 7,
   "metadata": {},
   "outputs": [
    {
     "data": {
      "text/plain": [
       "0.9416243654822335"
      ]
     },
     "execution_count": 7,
     "metadata": {},
     "output_type": "execute_result"
    }
   ],
   "source": [
    "def tfidf_mul_NB():\n",
    "    \n",
    "    vect = TfidfVectorizer(min_df = 3).fit(X_train)\n",
    "    X_train_vectorized = vect.transform(X_train)\n",
    "    \n",
    "    model = MultinomialNB(alpha = 0.1)\n",
    "    model.fit(X_train_vectorized, y_train)\n",
    "    \n",
    "    predictions = model.predict(vect.transform(X_test))\n",
    "    \n",
    "    auc_score = roc_auc_score(y_test, predictions) \n",
    "    \n",
    "    return auc_score\n",
    "\n",
    "tfidf_mul_NB()"
   ]
  },
  {
   "cell_type": "code",
   "execution_count": 8,
   "metadata": {},
   "outputs": [
    {
     "data": {
      "text/plain": [
       "(71.02362694300518, 138.8661311914324)"
      ]
     },
     "execution_count": 8,
     "metadata": {},
     "output_type": "execute_result"
    }
   ],
   "source": [
    "# Average length of documents for not spam and spam documents\n",
    "\n",
    "def avg_len():\n",
    "    \n",
    "    spam_char = non_spam_char = 0\n",
    "    \n",
    "    for i in range(len(spam_data)):\n",
    "        if spam_data.iloc[i]['target'] == 1:\n",
    "            spam_char = spam_char + len(spam_data.iloc[i]['text'])\n",
    "        else:\n",
    "            non_spam_char = non_spam_char + len(spam_data.iloc[i]['text'])\n",
    "        \n",
    "    \n",
    "    return (non_spam_char/np.bincount(spam_data['target'])[0], spam_char/np.bincount(spam_data['target'])[1])\n",
    "\n",
    "avg_len()"
   ]
  },
  {
   "cell_type": "markdown",
   "metadata": {},
   "source": [
    "# Function to combine new feature to training data"
   ]
  },
  {
   "cell_type": "code",
   "execution_count": 9,
   "metadata": {},
   "outputs": [],
   "source": [
    "def add_feature(X, feature_to_add):\n",
    "    \n",
    "    from scipy.sparse import csr_matrix, hstack\n",
    "    return hstack([X, csr_matrix(feature_to_add).T], 'csr')"
   ]
  },
  {
   "cell_type": "markdown",
   "metadata": {},
   "source": [
    "# Third model\n",
    "\n",
    "> Fitting and transforming the training data `X_train` using a Tfidf Vectorizer ignoring terms that have document frequency lower than **5**.\n",
    "\n",
    "> Adding an additional feature, **the length of document**\n",
    "\n",
    "> Fitting a Support Vector Classification model with regularization `C=10000`\n",
    "\n",
    "> Area under the curve (AUC) score using the transformed test data"
   ]
  },
  {
   "cell_type": "code",
   "execution_count": 10,
   "metadata": {},
   "outputs": [
    {
     "data": {
      "text/plain": [
       "0.9661689557407943"
      ]
     },
     "execution_count": 10,
     "metadata": {},
     "output_type": "execute_result"
    }
   ],
   "source": [
    "from sklearn.svm import SVC\n",
    "\n",
    "def svc():\n",
    "    \n",
    "    from sklearn.svm import SVC\n",
    "    \n",
    "    def char_count(x):\n",
    "        doc_len = []\n",
    "        for i in x:\n",
    "            doc_len.append(len(i))\n",
    "        return doc_len\n",
    "    \n",
    "    train_doc_len = char_count(X_train)\n",
    "    test_doc_len = char_count(X_test)\n",
    "    \n",
    "    vect = TfidfVectorizer(min_df = 5).fit(X_train)\n",
    "    X_train_vectorized = vect.transform(X_train)\n",
    "    \n",
    "    new_train_vectorized = add_feature(X_train_vectorized, train_doc_len)\n",
    "    new_test_vectorized = add_feature(vect.transform(X_test), test_doc_len)\n",
    "    \n",
    "    model = SVC(C=10000).fit(new_train_vectorized, y_train)\n",
    "    predictions = model.predict(new_test_vectorized)\n",
    "    \n",
    "    auc_score = roc_auc_score(y_test, predictions)\n",
    "\n",
    "    return auc_score\n",
    "\n",
    "svc()"
   ]
  },
  {
   "cell_type": "code",
   "execution_count": 11,
   "metadata": {},
   "outputs": [
    {
     "data": {
      "text/plain": [
       "(0.2992746113989637, 15.759036144578314)"
      ]
     },
     "execution_count": 11,
     "metadata": {},
     "output_type": "execute_result"
    }
   ],
   "source": [
    "# Average number of digits per document for not spam and spam documents\n",
    "\n",
    "def n_digits():\n",
    "    \n",
    "    spam_int = non_spam_int = 0\n",
    "    \n",
    "    import re\n",
    "    \n",
    "    for i in range(len(spam_data)):\n",
    "        if spam_data.iloc[i]['target'] == 1:\n",
    "            spam_int = spam_int + len(re.findall('[\\d]', spam_data.iloc[i]['text']))\n",
    "        else:\n",
    "            non_spam_int = non_spam_int + len(re.findall('[\\d]', spam_data.iloc[i]['text']))\n",
    "        \n",
    "    \n",
    "    return (non_spam_int/np.bincount(spam_data['target'])[0], spam_int/np.bincount(spam_data['target'])[1])\n",
    "\n",
    "n_digits()"
   ]
  },
  {
   "cell_type": "markdown",
   "metadata": {},
   "source": [
    "# Fourth model\n",
    "\n",
    "> Fitting and transforming the training data `X_train` using a Tfidf Vectorizer ignoring terms that have document frequency lower than **5** and using **word n-grams from n=1 to n=3**\n",
    "\n",
    "> Adding an additional features, **the length of document**, **number of digits per document**\n",
    "\n",
    "> Fitting a Logistic Regression model with regularization `C=100`\n",
    "\n",
    "> Area under the curve (AUC) score using the transformed test data\n"
   ]
  },
  {
   "cell_type": "code",
   "execution_count": 12,
   "metadata": {},
   "outputs": [
    {
     "name": "stderr",
     "output_type": "stream",
     "text": [
      "F:\\Anaconda\\lib\\site-packages\\sklearn\\linear_model\\_logistic.py:818: ConvergenceWarning: lbfgs failed to converge (status=1):\n",
      "STOP: TOTAL NO. of ITERATIONS REACHED LIMIT.\n",
      "\n",
      "Increase the number of iterations (max_iter) or scale the data as shown in:\n",
      "    https://scikit-learn.org/stable/modules/preprocessing.html\n",
      "Please also refer to the documentation for alternative solver options:\n",
      "    https://scikit-learn.org/stable/modules/linear_model.html#logistic-regression\n",
      "  extra_warning_msg=_LOGISTIC_SOLVER_CONVERGENCE_MSG,\n"
     ]
    },
    {
     "data": {
      "text/plain": [
       "0.9759031798040846"
      ]
     },
     "execution_count": 12,
     "metadata": {},
     "output_type": "execute_result"
    }
   ],
   "source": [
    "from sklearn.linear_model import LogisticRegression\n",
    "\n",
    "def lr():\n",
    "    \n",
    "    from sklearn.linear_model import LogisticRegression\n",
    "    \n",
    "    def char_count(x):\n",
    "        doc_len = []\n",
    "        for i in x:\n",
    "            doc_len.append(len(i))\n",
    "        return doc_len\n",
    "    \n",
    "    def int_count(x):\n",
    "        import re\n",
    "        count = 0\n",
    "        int_num = []\n",
    "        for i in x:\n",
    "            int_num.append(len(re.findall('[\\d]', i)))\n",
    "        return int_num\n",
    "    \n",
    "    train_doc_len = char_count(X_train)\n",
    "    test_doc_len = char_count(X_test)\n",
    "    \n",
    "    train_int_num = int_count(X_train)\n",
    "    test_int_num = int_count(X_test)\n",
    "    \n",
    "    vect = TfidfVectorizer(min_df = 5, ngram_range=(1,3)).fit(X_train)\n",
    "    X_train_vectorized = vect.transform(X_train)\n",
    "    \n",
    "    new_train_vectorized1 = add_feature(X_train_vectorized, [train_doc_len, train_int_num])\n",
    "    new_test_vectorized1 = add_feature(vect.transform(X_test), [test_doc_len, test_int_num])\n",
    "    \n",
    "#     new_train_vectorized2 = add_feature(new_train_vectorized1, train_int_num)\n",
    "#     new_test_vectorized2 = add_feature(new_test_vectorized1, test_int_num)\n",
    "    \n",
    "    model = LogisticRegression(C=100).fit(new_train_vectorized1, y_train)\n",
    "    predictions = model.predict(new_test_vectorized1)\n",
    "    \n",
    "    auc_score = roc_auc_score(y_test, predictions)\n",
    "    \n",
    "    \n",
    "    return auc_score\n",
    "\n",
    "lr()"
   ]
  },
  {
   "cell_type": "code",
   "execution_count": 13,
   "metadata": {},
   "outputs": [
    {
     "data": {
      "text/plain": [
       "(17.29181347150259, 29.041499330655956)"
      ]
     },
     "execution_count": 13,
     "metadata": {},
     "output_type": "execute_result"
    }
   ],
   "source": [
    "# Average number of non-word characters per document for not spam and spam documents\n",
    "\n",
    "def non_word_char():\n",
    "    \n",
    "    spam_non_word = non_spam_non_word = 0\n",
    "    \n",
    "    import re\n",
    "    \n",
    "    for i in range(len(spam_data)):\n",
    "        if spam_data.iloc[i]['target'] == 1:\n",
    "            spam_non_word = spam_non_word + len(re.findall('[\\W]', spam_data.iloc[i]['text'])) \n",
    "        else:\n",
    "            non_spam_non_word = non_spam_non_word + len(re.findall('[\\W]', spam_data.iloc[i]['text']))\n",
    "        \n",
    "    \n",
    "    return (non_spam_non_word/np.bincount(spam_data['target'])[0], spam_non_word/np.bincount(spam_data['target'])[1])\n",
    "\n",
    "non_word_char()"
   ]
  },
  {
   "cell_type": "markdown",
   "metadata": {},
   "source": [
    "# Final model\n",
    "\n",
    "> Fitting and transforming the training data `X_train` using a Tfidf Vectorizer ignoring terms that have document frequency lower than **5** and using **word n-grams from n=1 to n=5**\n",
    "\n",
    "> Adding an additional features, **the length of document**, **number of digits per document**, **number of non-word characters**\n",
    "\n",
    "> Fitting a Logistic Regression model with regularization `C=100`\n",
    "\n",
    "> Area under the curve (AUC) score using the transformed test data\n",
    "\n",
    "\n",
    "Also **find the 10 smallest and 10 largest coefficients from the model** and return them along with the AUC score in a tuple."
   ]
  },
  {
   "cell_type": "code",
   "execution_count": 14,
   "metadata": {},
   "outputs": [
    {
     "name": "stderr",
     "output_type": "stream",
     "text": [
      "F:\\Anaconda\\lib\\site-packages\\sklearn\\linear_model\\_logistic.py:818: ConvergenceWarning: lbfgs failed to converge (status=1):\n",
      "STOP: TOTAL NO. of ITERATIONS REACHED LIMIT.\n",
      "\n",
      "Increase the number of iterations (max_iter) or scale the data as shown in:\n",
      "    https://scikit-learn.org/stable/modules/preprocessing.html\n",
      "Please also refer to the documentation for alternative solver options:\n",
      "    https://scikit-learn.org/stable/modules/linear_model.html#logistic-regression\n",
      "  extra_warning_msg=_LOGISTIC_SOLVER_CONVERGENCE_MSG,\n",
      "F:\\Anaconda\\lib\\site-packages\\sklearn\\utils\\deprecation.py:87: FutureWarning: Function get_feature_names is deprecated; get_feature_names is deprecated in 1.0 and will be removed in 1.2. Please use get_feature_names_out instead.\n",
      "  warnings.warn(msg, category=FutureWarning)\n"
     ]
    },
    {
     "data": {
      "text/plain": [
       "(0.9813973821367333,\n",
       " array(['..', '. ', ' i', ' go', ' y', '? ', 'ok', 'pe', 'h ', 'go'],\n",
       "       dtype='<U19'),\n",
       " array(['digit_count', 'ww', 'ne', 'co', 'ia', 'xt', 'ar', 'mob', ' ch',\n",
       "        'uk'], dtype='<U19'))"
      ]
     },
     "execution_count": 14,
     "metadata": {},
     "output_type": "execute_result"
    }
   ],
   "source": [
    "def final_model():\n",
    "    \n",
    "    def char_count(x):\n",
    "        doc_len = []\n",
    "        for i in x:\n",
    "            doc_len.append(len(i))\n",
    "        return doc_len\n",
    "    \n",
    "    def int_count(x):\n",
    "        import re\n",
    "        count = 0\n",
    "        int_num = []\n",
    "        for i in x:\n",
    "            int_num.append(len(re.findall('[\\d]', i)))\n",
    "        return int_num\n",
    "    \n",
    "    def non_word_count(x):\n",
    "        import re\n",
    "        count = 0\n",
    "        non_word_num = []\n",
    "        for i in x:\n",
    "            non_word_num.append(len(re.findall('[\\W]', i)))\n",
    "        return non_word_num\n",
    "    \n",
    "    train_doc_len = char_count(X_train)\n",
    "    test_doc_len = char_count(X_test)\n",
    "    \n",
    "    train_int_num = int_count(X_train)\n",
    "    test_int_num = int_count(X_test)\n",
    "    \n",
    "    train_non_word_num = non_word_count(X_train)\n",
    "    test_non_word_num = non_word_count(X_test)\n",
    "    \n",
    "    vect = CountVectorizer(min_df = 5, ngram_range=(2,5), analyzer= 'char_wb').fit(X_train)\n",
    "    X_train_vectorized = vect.transform(X_train)\n",
    "    X_test_vectorized = vect.transform(X_test)\n",
    "    \n",
    "    new_train_vectorized1 = add_feature(X_train_vectorized, [train_doc_len, train_int_num, train_non_word_num])\n",
    "    new_test_vectorized1 = add_feature(X_test_vectorized, [test_doc_len, test_int_num, test_non_word_num])\n",
    "    \n",
    "    model = LogisticRegression(C=100).fit(new_train_vectorized1, y_train)\n",
    "    predictions = model.predict(new_test_vectorized1)\n",
    "    \n",
    "    auc_score = roc_auc_score(y_test, predictions)\n",
    "    \n",
    "    coeff_index = model.coef_[0].argsort()\n",
    "    \n",
    "    feature_names = vect.get_feature_names()\n",
    "    new_feature_names = feature_names + ['length_of_doc', 'digit_count', 'non_word_char_count']\n",
    "    \n",
    "    small_coeff = np.array(new_feature_names)[coeff_index[:10]]\n",
    "    large_coeff = np.array(new_feature_names)[coeff_index[:-11:-1]]\n",
    "    \n",
    "    return (auc_score, small_coeff, large_coeff)\n",
    "\n",
    "final_model()"
   ]
  },
  {
   "cell_type": "code",
   "execution_count": null,
   "metadata": {},
   "outputs": [],
   "source": []
  }
 ],
 "metadata": {
  "coursera": {
   "course_slug": "python-text-mining",
   "graded_item_id": "Pn19K",
   "launcher_item_id": "y1juS",
   "part_id": "ctlgo"
  },
  "kernelspec": {
   "display_name": "Python 3 (ipykernel)",
   "language": "python",
   "name": "python3"
  },
  "language_info": {
   "codemirror_mode": {
    "name": "ipython",
    "version": 3
   },
   "file_extension": ".py",
   "mimetype": "text/x-python",
   "name": "python",
   "nbconvert_exporter": "python",
   "pygments_lexer": "ipython3",
   "version": "3.7.13"
  }
 },
 "nbformat": 4,
 "nbformat_minor": 4
}
